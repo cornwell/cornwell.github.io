{
 "cells": [
  {
   "cell_type": "code",
   "execution_count": null,
   "id": "4e95acea",
   "metadata": {},
   "outputs": [],
   "source": [
    "binary_cols = ['HighBP', 'HighChol', 'CholCheck', 'Smoker', 'Stroke', 'HeartDiseaseorAttack', 'PhysActivity', 'Fruits', 'Veggies', \n",
    "        'HvyAlcoholConsump', 'AnyHealthcare', 'NoDocbcCost', 'DiffWalk', 'Sex']\n",
    "Xbinary = X[binary_cols]"
   ]
  },
  {
   "cell_type": "code",
   "execution_count": null,
   "id": "4c9f058d",
   "metadata": {},
   "outputs": [],
   "source": [
    "tree = DecisionTreeClassifier()\n",
    "tree.fit(Xbinary, y)"
   ]
  },
  {
   "cell_type": "code",
   "execution_count": null,
   "id": "e2c82ebd",
   "metadata": {},
   "outputs": [
    {
     "data": {
      "text/plain": [
       "0.7280880439087875"
      ]
     },
     "metadata": {},
     "output_type": "display_data"
    }
   ],
   "source": [
    "tree.score(Xbinary, y)"
   ]
  }
 ],
 "metadata": {
  "language_info": {
   "name": "python"
  }
 },
 "nbformat": 4,
 "nbformat_minor": 5
}
