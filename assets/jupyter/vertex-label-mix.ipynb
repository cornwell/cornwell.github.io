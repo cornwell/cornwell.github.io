{
 "cells": [
  {
   "cell_type": "code",
   "execution_count": null,
   "id": "b74e326c",
   "metadata": {},
   "outputs": [],
   "source": [
    "binary_cols = ['HighBP', 'HighChol', 'CholCheck', 'Smoker', 'Stroke', 'HeartDiseaseorAttack', 'PhysActivity', 'Fruits', 'Veggies', \n",
    "        'HvyAlcoholConsump', 'AnyHealthcare', 'NoDocbcCost', 'DiffWalk', 'Sex']\n",
    "Xbinary = X[binary_cols]"
   ]
  },
  {
   "cell_type": "markdown",
   "id": "2421849c",
   "metadata": {},
   "source": [
    "Checking those that match the vertex (binary vector) of row 0."
   ]
  },
  {
   "cell_type": "code",
   "execution_count": null,
   "id": "889f00c2",
   "metadata": {},
   "outputs": [
    {
     "data": {
      "text/plain": [
       "np.float64(0.005941266338482431)"
      ]
     },
     "metadata": {},
     "output_type": "display_data"
    }
   ],
   "source": [
    "# make each dataframe entry True/False - whether it matches row 0 entry\n",
    "X0_vertex = Xbinary[Xbinary.columns] == tuple(Xbinary.iloc[0])\n",
    "\n",
    "# multiply columns ('all' equals 1 or 0, 1 when True in all cols <- same vertex as  row 0); \n",
    "# take mean to get percent that are True\n",
    "X0_vertex['all'] = X0_vertex.prod(axis=1)\n",
    "np.mean(X0_vertex['all'].astype(int))"
   ]
  },
  {
   "cell_type": "code",
   "execution_count": null,
   "id": "2a983547",
   "metadata": {},
   "outputs": [
    {
     "data": {
      "text/plain": [
       "np.float64(0.4928571428571429)"
      ]
     },
     "metadata": {},
     "output_type": "display_data"
    }
   ],
   "source": [
    "# the average of labels (0 or 1) of rows that agree with row 0\n",
    "np.mean( y[np.where(X0_vertex['all'])[0]] )"
   ]
  },
  {
   "cell_type": "markdown",
   "id": "9feca2ce",
   "metadata": {},
   "source": [
    "Two vertices corresponding to many instances."
   ]
  },
  {
   "cell_type": "code",
   "execution_count": null,
   "id": "5364db26",
   "metadata": {},
   "outputs": [
    {
     "data": {
      "text/plain": [
       "np.float64(0.0456062920839699)"
      ]
     },
     "metadata": {},
     "output_type": "display_data"
    }
   ],
   "source": [
    "# make each dataframe entry True/False - whether it matches row 20 entry\n",
    "X_vertex = Xbinary[Xbinary.columns] == tuple(Xbinary.iloc[20])\n",
    "\n",
    "# multiply columns ('all' equals 1 or 0, 1 when True in all cols <- same vertex as  row 20); \n",
    "# take mean to get percent that are True\n",
    "X_vertex['all'] = X_vertex.prod(axis=1)\n",
    "np.mean(X_vertex['all'].astype(int))"
   ]
  },
  {
   "cell_type": "code",
   "execution_count": null,
   "id": "e192c5f6",
   "metadata": {},
   "outputs": [
    {
     "data": {
      "text/plain": [
       "np.float64(0.1163151364764268)"
      ]
     },
     "metadata": {},
     "output_type": "display_data"
    }
   ],
   "source": [
    "# the average of labels (0 or 1) of rows that agree with row 20\n",
    "np.mean( y[np.where(X_vertex['all'])[0]] )"
   ]
  },
  {
   "cell_type": "code",
   "execution_count": null,
   "id": "b1df8a4f",
   "metadata": {},
   "outputs": [
    {
     "data": {
      "text/plain": [
       "np.float64(0.005106659876647994)"
      ]
     },
     "metadata": {},
     "output_type": "display_data"
    }
   ],
   "source": [
    "# make each dataframe entry True/False - whether it matches row 2725 entry\n",
    "X_vertex = Xbinary[Xbinary.columns] == tuple(Xbinary.iloc[2725])\n",
    "\n",
    "# multiply columns ('all' equals 1 or 0, 1 when True in all cols <- same vertex as  row 2725); \n",
    "# take mean to get percent that are True\n",
    "X_vertex['all'] = X_vertex.prod(axis=1)\n",
    "np.mean(X_vertex['all'].astype(int))"
   ]
  },
  {
   "cell_type": "code",
   "execution_count": null,
   "id": "861f0e2f",
   "metadata": {},
   "outputs": [
    {
     "data": {
      "text/plain": [
       "np.float64(0.8421052631578947)"
      ]
     },
     "metadata": {},
     "output_type": "display_data"
    }
   ],
   "source": [
    "# the average of labels (0 or 1) of rows that agree with row 2725\n",
    "np.mean( y[np.where(X_vertex['all'])[0]] )"
   ]
  }
 ],
 "metadata": {
  "kernelspec": {
   "display_name": "Python 3",
   "language": "python",
   "name": "python3"
  },
  "language_info": {
   "codemirror_mode": {
    "name": "ipython",
    "version": 3
   },
   "file_extension": ".py",
   "mimetype": "text/x-python",
   "name": "python",
   "nbconvert_exporter": "python",
   "pygments_lexer": "ipython3",
   "version": "3.13.1"
  }
 },
 "nbformat": 4,
 "nbformat_minor": 5
}
